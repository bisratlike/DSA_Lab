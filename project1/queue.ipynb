{
 "cells": [
  {
   "cell_type": "markdown",
   "metadata": {},
   "source": [
    "write python implementation of \n",
    "a/linear queue"
   ]
  },
  {
   "cell_type": "code",
   "execution_count": 2,
   "metadata": {},
   "outputs": [],
   "source": [
    "import queue\n",
    "\n",
    "class MyQueue:\n",
    "    def __init__(self):\n",
    "        self.queue = queue.Queue()\n",
    "\n",
    "    def push(self, value):\n",
    "        self.queue.put(value)\n",
    "\n",
    "    def removes(self):\n",
    "        if not self.queue.empty():\n",
    "            return self.queue.get()\n",
    "        else:\n",
    "            print(\"Queue is empty\")\n",
    "            return None\n",
    "\n",
    "    def listempty(self):\n",
    "        if self.queue.empty():\n",
    "            print(\"Queue is empty\")\n",
    "            return True\n",
    "        else:\n",
    "            print(\"Queue is not empty\")\n",
    "            return False"
   ]
  },
  {
   "cell_type": "markdown",
   "metadata": {},
   "source": [
    "circular queue"
   ]
  },
  {
   "cell_type": "code",
   "execution_count": 1,
   "metadata": {},
   "outputs": [
    {
     "name": "stdout",
     "output_type": "stream",
     "text": [
      "Elements in the circular queue are: 14 22 13 -6 \n",
      "Deleted value =  14\n",
      "Deleted value =  22\n",
      "Elements in the circular queue are: 13 -6 \n",
      "Elements in Circular Queue are: 13 -6 9 20 5 \n",
      "Queue is Full\n"
     ]
    }
   ],
   "source": [
    "class CircularQueue():\n",
    "\n",
    "\tdef __init__(self, size):\n",
    "\t\tself.size = size\n",
    "\t\tself.queue = [None for i in range(size)] \n",
    "\t\tself.front = self.rear = -1\n",
    "\tdef enqueue(self, data):\n",
    "\t\tif ((self.rear + 1) % self.size == self.front): \n",
    "\t\t\tprint(\" Queue is Full\\n\")\n",
    "\t\telif (self.front == -1): \n",
    "\t\t\tself.front = 0\n",
    "\t\t\tself.rear = 0\n",
    "\t\t\tself.queue[self.rear] = data\n",
    "\t\telse:\n",
    "\t\t\t\n",
    "\t\t\t# next position of rear\n",
    "\t\t\tself.rear = (self.rear + 1) % self.size \n",
    "\t\t\tself.queue[self.rear] = data\n",
    "\t\t\t\n",
    "\tdef dequeue(self):\n",
    "\t\tif (self.front == -1): # condition for empty queue\n",
    "\t\t\tprint (\"Queue is Empty\\n\")\n",
    "\t\t\t\n",
    "\t\t# condition for only one element\n",
    "\t\telif (self.front == self.rear): \n",
    "\t\t\ttemp=self.queue[self.front]\n",
    "\t\t\tself.front = -1\n",
    "\t\t\tself.rear = -1\n",
    "\t\t\treturn temp\n",
    "\t\telse:\n",
    "\t\t\ttemp = self.queue[self.front]\n",
    "\t\t\tself.front = (self.front + 1) % self.size\n",
    "\t\t\treturn temp\n",
    "\n",
    "\tdef display(self):\n",
    "\t\n",
    "\t\t# condition for empty queue\n",
    "\t\tif(self.front == -1): \n",
    "\t\t\tprint (\"Queue is Empty\")\n",
    "\n",
    "\t\telif (self.rear >= self.front):\n",
    "\t\t\tprint(\"Elements in the circular queue are:\", \n",
    "\t\t\t\t\t\t\t\t\t\t\tend = \" \")\n",
    "\t\t\tfor i in range(self.front, self.rear + 1):\n",
    "\t\t\t\tprint(self.queue[i], end = \" \")\n",
    "\t\t\tprint ()\n",
    "\n",
    "\t\telse:\n",
    "\t\t\tprint (\"Elements in Circular Queue are:\", \n",
    "\t\t\t\t\t\t\t\t\t\tend = \" \")\n",
    "\t\t\tfor i in range(self.front, self.size):\n",
    "\t\t\t\tprint(self.queue[i], end = \" \")\n",
    "\t\t\tfor i in range(0, self.rear + 1):\n",
    "\t\t\t\tprint(self.queue[i], end = \" \")\n",
    "\t\t\tprint ()\n",
    "\n",
    "\t\tif ((self.rear + 1) % self.size == self.front):\n",
    "\t\t\tprint(\"Queue is Full\")\n",
    "\n",
    "\n",
    "ob = CircularQueue(5)\n",
    "ob.enqueue(14)\n",
    "ob.enqueue(22)\n",
    "ob.enqueue(13)\n",
    "ob.enqueue(-6)\n",
    "ob.display()\n",
    "print (\"Deleted value = \", ob.dequeue())\n",
    "print (\"Deleted value = \", ob.dequeue())\n",
    "ob.display()\n",
    "ob.enqueue(9)\n",
    "ob.enqueue(20)\n",
    "ob.enqueue(5)\n",
    "ob.display()\n",
    "\n"
   ]
  },
  {
   "cell_type": "markdown",
   "metadata": {},
   "source": []
  },
  {
   "cell_type": "markdown",
   "metadata": {},
   "source": [
    "write python implementation of linearqueues using stacks"
   ]
  },
  {
   "cell_type": "code",
   "execution_count": 5,
   "metadata": {},
   "outputs": [
    {
     "data": {
      "text/plain": [
       "[3, 4, 5, 6, 7, 10]"
      ]
     },
     "execution_count": 5,
     "metadata": {},
     "output_type": "execute_result"
    }
   ],
   "source": [
    "class queue:\n",
    "    def __init__(self,nums):\n",
    "        self.nums = nums\n",
    "    \n",
    "    \n",
    "    def push(self,value):\n",
    "        self.nums.append(value)\n",
    "        return(self.nums)\n",
    "        \n",
    "    def removes(self):\n",
    "        if len(self.nums)>0:\n",
    "            self.nums.pop(0)\n",
    "        else:\n",
    "            print(\"stack is full\")\n",
    "        return(self.nums)\n",
    "    def listempty(self):\n",
    "        if len(self.nums)== 0:\n",
    "            print(\"stack is empty\")\n",
    "            return True\n",
    "        else:\n",
    "            print (\"stack is not empty\")\n",
    "            return False\n",
    "            \n",
    "nums=[1,3,4,5,6,7]\n",
    "q=queue(nums)\n",
    "q.push(10)\n",
    "q.removes()"
   ]
  }
 ],
 "metadata": {
  "kernelspec": {
   "display_name": "Python 3",
   "language": "python",
   "name": "python3"
  },
  "language_info": {
   "codemirror_mode": {
    "name": "ipython",
    "version": 3
   },
   "file_extension": ".py",
   "mimetype": "text/x-python",
   "name": "python",
   "nbconvert_exporter": "python",
   "pygments_lexer": "ipython3",
   "version": "3.10.12"
  }
 },
 "nbformat": 4,
 "nbformat_minor": 2
}
