{
 "cells": [
  {
   "cell_type": "markdown",
   "metadata": {},
   "source": [
    "Implement a linear queue data structure using two stacks in Java (take the\n",
    "Stacks in question 2), where the stacks are implemented using arrays. The\n",
    "implementation should provide functionality for enqueue, dequeue, and peek\n",
    "operations, adhering to the FIFO (First In, First Out) principle."
   ]
  },
  {
   "cell_type": "code",
   "execution_count": null,
   "metadata": {},
   "outputs": [],
   "source": [
    "class queue:\n",
    "    def __init__(self,size):\n",
    "        self.items = []\n",
    "        self.size = size\n",
    "    def isFull(self):\n",
    "        if len(self.items)>= self.size:\n",
    "            return True\n",
    "        else:\n",
    "            return False\n",
    "    def isEmpty(self):\n",
    "        if len(self.items)==0:\n",
    "            return True\n",
    "        else:\n",
    "            return False\n",
    "    def push(self,val):\n",
    "        if self.isFull()== True:\n",
    "            print(\"queue is full\")\n",
    "            \n",
    "        else:\n",
    "            self.items.append(val)\n",
    "    def pop(self):\n",
    "        if self.isEmpty()== True:\n",
    "            print(\"queue is empty\")\n",
    "        else:\n",
    "            self.items.pop(0)\n",
    "    def peek(self):\n",
    "        if self.isEmpty()== True:\n",
    "            print(\"queue is empty\")\n",
    "        else:\n",
    "            return self.item[-1]\n",
    "            \n",
    "        "
   ]
  }
 ],
 "metadata": {
  "language_info": {
   "name": "python"
  }
 },
 "nbformat": 4,
 "nbformat_minor": 2
}
