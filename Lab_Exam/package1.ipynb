{
 "cells": [
  {
   "cell_type": "markdown",
   "metadata": {},
   "source": [
    "Dsa lab exam "
   ]
  },
  {
   "cell_type": "markdown",
   "metadata": {},
   "source": [
    "question number 1\n",
    "Write a program that allows the user to enter a sequence of numbers into an\n",
    "array. The program should then prompt the user to enter a number to be\n",
    "searched. The program should determine if the number is present in the array\n",
    "and, if so, display the number of times it appears."
   ]
  },
  {
   "cell_type": "code",
   "execution_count": 10,
   "metadata": {},
   "outputs": [
    {
     "name": "stdout",
     "output_type": "stream",
     "text": [
      "4\n"
     ]
    },
    {
     "data": {
      "text/plain": [
       "1"
      ]
     },
     "execution_count": 10,
     "metadata": {},
     "output_type": "execute_result"
    }
   ],
   "source": [
    "\n",
    "\n",
    "def presents(arr ,n):\n",
    "    counts=0\n",
    "    for i in range(len(arr)):\n",
    "        \n",
    "        if arr[i] == n:\n",
    "            counts+=1\n",
    "    \n",
    "    \n",
    "    return counts\n",
    "nums= int(input(\"enter a number :\"))\n",
    "print(nums)\n",
    "arr=[2,5,7,4,5,3,2,3]\n",
    "presents(arr,nums)          "
   ]
  }
 ],
 "metadata": {
  "kernelspec": {
   "display_name": "Python 3",
   "language": "python",
   "name": "python3"
  },
  "language_info": {
   "codemirror_mode": {
    "name": "ipython",
    "version": 3
   },
   "file_extension": ".py",
   "mimetype": "text/x-python",
   "name": "python",
   "nbconvert_exporter": "python",
   "pygments_lexer": "ipython3",
   "version": "3.10.12"
  }
 },
 "nbformat": 4,
 "nbformat_minor": 2
}
