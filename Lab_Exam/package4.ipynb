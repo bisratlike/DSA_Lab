{
 "cells": [
  {
   "cell_type": "markdown",
   "metadata": {},
   "source": [
    "Implement the bubble sort algorithm to sort an array of alphabets (ASCII)."
   ]
  },
  {
   "cell_type": "code",
   "execution_count": 6,
   "metadata": {},
   "outputs": [
    {
     "data": {
      "text/plain": [
       "['e', 'g', 'h', 'r']"
      ]
     },
     "execution_count": 6,
     "metadata": {},
     "output_type": "execute_result"
    }
   ],
   "source": [
    "x=ord(\"r\")\n",
    "x=chr(114)\n",
    "def alphabetOrder(alphabet):\n",
    "    for i in range(len(alphabet)):\n",
    "        \n",
    "        for j in range(0,len(alphabet)-i-1):\n",
    "            \n",
    "            if ord(alphabet[j]) > ord(alphabet[j+1]):\n",
    "                alphabet[j],alphabet[j+1]=alphabet[j+1],alphabet[j]\n",
    "    return alphabet\n",
    "alpha=[\"g\",\"h\",\"r\",\"e\"]\n",
    "alphabetOrder(alpha)\n",
    "                "
   ]
  }
 ],
 "metadata": {
  "kernelspec": {
   "display_name": "Python 3",
   "language": "python",
   "name": "python3"
  },
  "language_info": {
   "codemirror_mode": {
    "name": "ipython",
    "version": 3
   },
   "file_extension": ".py",
   "mimetype": "text/x-python",
   "name": "python",
   "nbconvert_exporter": "python",
   "pygments_lexer": "ipython3",
   "version": "3.10.12"
  }
 },
 "nbformat": 4,
 "nbformat_minor": 2
}
