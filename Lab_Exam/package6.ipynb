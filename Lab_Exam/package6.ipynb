{
 "cells": [
  {
   "cell_type": "markdown",
   "metadata": {},
   "source": [
    "Consider an array of integers in Java, named array, containing elements as\n",
    "follows: {3, 7, 1, 9, 4}. Write a Java method named deleteElement that\n",
    "takes two parameters: the array and an integer representing the index of the\n",
    "element to delete.\n",
    "The method should delete the element at the specified index from the array\n",
    "and return the modified array. If the index is invalid (less than 0 or greater\n",
    "than or equal to the array length), the method should print \"Invalid index.\"\n",
    "and return the original array unchanged."
   ]
  },
  {
   "cell_type": "code",
   "execution_count": 2,
   "metadata": {},
   "outputs": [
    {
     "data": {
      "text/plain": [
       "[2, 4, 6, 2, 67]"
      ]
     },
     "execution_count": 2,
     "metadata": {},
     "output_type": "execute_result"
    }
   ],
   "source": [
    "def deleteArr(arr,valIndex):\n",
    "    if valIndex>=len(arr) or valIndex<0:\n",
    "        return \"Invalid index.\"\n",
    "    arr.pop(valIndex)\n",
    "    return arr\n",
    "arr=[2,4,5,6,2,67]\n",
    "valIndex=2\n",
    "deleteArr(arr,valIndex)\n"
   ]
  }
 ],
 "metadata": {
  "kernelspec": {
   "display_name": "Python 3",
   "language": "python",
   "name": "python3"
  },
  "language_info": {
   "codemirror_mode": {
    "name": "ipython",
    "version": 3
   },
   "file_extension": ".py",
   "mimetype": "text/x-python",
   "name": "python",
   "nbconvert_exporter": "python",
   "pygments_lexer": "ipython3",
   "version": "3.10.12"
  }
 },
 "nbformat": 4,
 "nbformat_minor": 2
}
