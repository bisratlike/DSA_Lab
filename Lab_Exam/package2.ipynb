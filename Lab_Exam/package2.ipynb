{
 "cells": [
  {
   "cell_type": "markdown",
   "metadata": {},
   "source": [
    "Write a code snippet to implement a stack using arrays in your preferred\n",
    "programming language, including push and pop operations."
   ]
  },
  {
   "cell_type": "code",
   "execution_count": null,
   "metadata": {},
   "outputs": [],
   "source": [
    "class stack:\n",
    "    def __init__(self,size):\n",
    "        self.items = []\n",
    "        self.size = size\n",
    "    def isFull(self):\n",
    "        if len(self.items)>= self.size:\n",
    "            return True\n",
    "        else:\n",
    "            return False\n",
    "    def isEmpty(self):\n",
    "        if len(self.items)==0:\n",
    "            return True\n",
    "        else:\n",
    "            return False\n",
    "    def push(self,val):\n",
    "        if self.isFull()== True:\n",
    "            print(\"Stack is full\")\n",
    "            \n",
    "        else:\n",
    "            self.items.append(val)\n",
    "    def pop(self):\n",
    "        if self.isEmpty()== True:\n",
    "            print(\"Stack is empty\")\n",
    "        else:\n",
    "            self.items.pop()\n",
    "    def peek(self):\n",
    "        if self.isEmpty()== True:\n",
    "            print(\"Stack is empty\")\n",
    "        else:\n",
    "            return self.item[-1]\n",
    "            \n",
    "        "
   ]
  }
 ],
 "metadata": {
  "language_info": {
   "name": "python"
  }
 },
 "nbformat": 4,
 "nbformat_minor": 2
}
